{
 "cells": [
  {
   "cell_type": "code",
   "execution_count": 8,
   "metadata": {},
   "outputs": [
    {
     "name": "stderr",
     "output_type": "stream",
     "text": [
      "2020-02-22 17:57:34 [scrapy.utils.log] INFO: Scrapy 1.6.0 started (bot: scrapybot)\n",
      "2020-02-22 17:57:34 [scrapy.utils.log] INFO: Versions: lxml 4.3.3.0, libxml2 2.9.9, cssselect 1.0.3, parsel 1.5.1, w3lib 1.20.0, Twisted 17.5.0, Python 3.6.8 |Anaconda, Inc.| (default, Dec 29 2018, 19:04:46) - [GCC 4.2.1 Compatible Clang 4.0.1 (tags/RELEASE_401/final)], pyOpenSSL 19.0.0 (OpenSSL 1.1.1d  10 Sep 2019), cryptography 2.7, Platform Darwin-18.7.0-x86_64-i386-64bit\n",
      "2020-02-22 17:57:34 [scrapy.crawler] INFO: Overridden settings: {}\n",
      "2020-02-22 17:57:34 [scrapy.extensions.telnet] INFO: Telnet Password: dc99886fd32b7f0d\n",
      "2020-02-22 17:57:34 [scrapy.middleware] INFO: Enabled extensions:\n",
      "['scrapy.extensions.corestats.CoreStats',\n",
      " 'scrapy.extensions.telnet.TelnetConsole',\n",
      " 'scrapy.extensions.memusage.MemoryUsage',\n",
      " 'scrapy.extensions.logstats.LogStats']\n",
      "2020-02-22 17:57:35 [selenium.webdriver.remote.remote_connection] DEBUG: POST http://127.0.0.1:56866/session {\"capabilities\": {\"firstMatch\": [{}], \"alwaysMatch\": {\"browserName\": \"safari\", \"platformName\": \"mac\"}}, \"desiredCapabilities\": {\"browserName\": \"safari\", \"version\": \"\", \"platform\": \"MAC\"}}\n",
      "2020-02-22 17:57:35 [urllib3.connectionpool] DEBUG: Starting new HTTP connection (1): 127.0.0.1:56866\n",
      "2020-02-22 17:57:36 [urllib3.connectionpool] DEBUG: http://127.0.0.1:56866 \"POST /session HTTP/1.1\" 200 521\n",
      "2020-02-22 17:57:36 [selenium.webdriver.remote.remote_connection] DEBUG: Finished Request\n",
      "2020-02-22 17:57:36 [selenium.webdriver.remote.remote_connection] DEBUG: POST http://127.0.0.1:56866/session/1A9FB53E-3A8D-4ED8-953A-85BEC25C66C5/url {\"url\": \"https://www.etoro.com/login\"}\n",
      "2020-02-22 17:57:40 [urllib3.connectionpool] DEBUG: http://127.0.0.1:56866 \"POST /session/1A9FB53E-3A8D-4ED8-953A-85BEC25C66C5/url HTTP/1.1\" 200 14\n",
      "2020-02-22 17:57:40 [selenium.webdriver.remote.remote_connection] DEBUG: Finished Request\n",
      "2020-02-22 17:57:40 [selenium.webdriver.remote.remote_connection] DEBUG: POST http://127.0.0.1:56866/session/1A9FB53E-3A8D-4ED8-953A-85BEC25C66C5/element {\"using\": \"css selector\", \"value\": \"[id=\\\"username\\\"]\"}\n",
      "2020-02-22 17:57:40 [urllib3.connectionpool] DEBUG: http://127.0.0.1:56866 \"POST /session/1A9FB53E-3A8D-4ED8-953A-85BEC25C66C5/element HTTP/1.1\" 200 93\n",
      "2020-02-22 17:57:40 [selenium.webdriver.remote.remote_connection] DEBUG: Finished Request\n",
      "2020-02-22 17:57:40 [selenium.webdriver.remote.remote_connection] DEBUG: POST http://127.0.0.1:56866/session/1A9FB53E-3A8D-4ED8-953A-85BEC25C66C5/element {\"using\": \"css selector\", \"value\": \"[id=\\\"password\\\"]\"}\n",
      "2020-02-22 17:57:40 [urllib3.connectionpool] DEBUG: http://127.0.0.1:56866 \"POST /session/1A9FB53E-3A8D-4ED8-953A-85BEC25C66C5/element HTTP/1.1\" 200 93\n",
      "2020-02-22 17:57:40 [selenium.webdriver.remote.remote_connection] DEBUG: Finished Request\n",
      "2020-02-22 17:57:40 [selenium.webdriver.remote.remote_connection] DEBUG: POST http://127.0.0.1:56866/session/1A9FB53E-3A8D-4ED8-953A-85BEC25C66C5/element/node-4CD33A4C-6BCC-45A8-B628-1314244D037A/value {\"text\": \"medioman22\", \"value\": [\"m\", \"e\", \"d\", \"i\", \"o\", \"m\", \"a\", \"n\", \"2\", \"2\"], \"id\": \"node-4CD33A4C-6BCC-45A8-B628-1314244D037A\"}\n",
      "2020-02-22 17:57:40 [urllib3.connectionpool] DEBUG: http://127.0.0.1:56866 \"POST /session/1A9FB53E-3A8D-4ED8-953A-85BEC25C66C5/element/node-4CD33A4C-6BCC-45A8-B628-1314244D037A/value HTTP/1.1\" 200 14\n",
      "2020-02-22 17:57:40 [selenium.webdriver.remote.remote_connection] DEBUG: Finished Request\n",
      "2020-02-22 17:57:40 [selenium.webdriver.remote.remote_connection] DEBUG: POST http://127.0.0.1:56866/session/1A9FB53E-3A8D-4ED8-953A-85BEC25C66C5/element/node-BAFDC5EF-AE57-4D36-B250-6790A21F3C36/value {\"text\": \"eTheLoss22\\ue007\", \"value\": [\"e\", \"T\", \"h\", \"e\", \"L\", \"o\", \"s\", \"s\", \"2\", \"2\", \"\\ue007\"], \"id\": \"node-BAFDC5EF-AE57-4D36-B250-6790A21F3C36\"}\n",
      "2020-02-22 17:57:40 [urllib3.connectionpool] DEBUG: http://127.0.0.1:56866 \"POST /session/1A9FB53E-3A8D-4ED8-953A-85BEC25C66C5/element/node-BAFDC5EF-AE57-4D36-B250-6790A21F3C36/value HTTP/1.1\" 200 14\n",
      "2020-02-22 17:57:40 [selenium.webdriver.remote.remote_connection] DEBUG: Finished Request\n",
      "2020-02-22 17:57:40 [scrapy.middleware] INFO: Enabled downloader middlewares:\n",
      "['scrapy.downloadermiddlewares.httpauth.HttpAuthMiddleware',\n",
      " 'scrapy.downloadermiddlewares.downloadtimeout.DownloadTimeoutMiddleware',\n",
      " 'scrapy.downloadermiddlewares.defaultheaders.DefaultHeadersMiddleware',\n",
      " 'scrapy.downloadermiddlewares.useragent.UserAgentMiddleware',\n",
      " 'scrapy.downloadermiddlewares.retry.RetryMiddleware',\n",
      " 'scrapy.downloadermiddlewares.redirect.MetaRefreshMiddleware',\n",
      " 'scrapy.downloadermiddlewares.httpcompression.HttpCompressionMiddleware',\n",
      " 'scrapy.downloadermiddlewares.redirect.RedirectMiddleware',\n",
      " 'scrapy.downloadermiddlewares.cookies.CookiesMiddleware',\n",
      " 'scrapy.downloadermiddlewares.httpproxy.HttpProxyMiddleware',\n",
      " 'scrapy.downloadermiddlewares.stats.DownloaderStats']\n",
      "2020-02-22 17:57:40 [scrapy.middleware] INFO: Enabled spider middlewares:\n",
      "['scrapy.spidermiddlewares.httperror.HttpErrorMiddleware',\n",
      " 'scrapy.spidermiddlewares.offsite.OffsiteMiddleware',\n",
      " 'scrapy.spidermiddlewares.referer.RefererMiddleware',\n",
      " 'scrapy.spidermiddlewares.urllength.UrlLengthMiddleware',\n",
      " 'scrapy.spidermiddlewares.depth.DepthMiddleware']\n",
      "2020-02-22 17:57:40 [scrapy.middleware] INFO: Enabled item pipelines:\n",
      "[]\n",
      "2020-02-22 17:57:40 [scrapy.core.engine] INFO: Spider opened\n",
      "2020-02-22 17:57:40 [scrapy.extensions.logstats] INFO: Crawled 0 pages (at 0 pages/min), scraped 0 items (at 0 items/min)\n",
      "2020-02-22 17:57:40 [scrapy.extensions.telnet] INFO: Telnet console listening on 127.0.0.1:6026\n"
     ]
    },
    {
     "ename": "ReactorNotRestartable",
     "evalue": "",
     "output_type": "error",
     "traceback": [
      "\u001b[0;31m---------------------------------------------------------------------------\u001b[0m",
      "\u001b[0;31mReactorNotRestartable\u001b[0m                     Traceback (most recent call last)",
      "\u001b[0;32m<ipython-input-8-b4b77039c56f>\u001b[0m in \u001b[0;36m<module>\u001b[0;34m\u001b[0m\n\u001b[1;32m     25\u001b[0m \u001b[0mprocess\u001b[0m \u001b[0;34m=\u001b[0m \u001b[0mCrawlerProcess\u001b[0m\u001b[0;34m(\u001b[0m\u001b[0;34m)\u001b[0m\u001b[0;34m\u001b[0m\u001b[0;34m\u001b[0m\u001b[0m\n\u001b[1;32m     26\u001b[0m \u001b[0mprocess\u001b[0m\u001b[0;34m.\u001b[0m\u001b[0mcrawl\u001b[0m\u001b[0;34m(\u001b[0m\u001b[0meToroSpider\u001b[0m\u001b[0;34m)\u001b[0m\u001b[0;34m\u001b[0m\u001b[0;34m\u001b[0m\u001b[0m\n\u001b[0;32m---> 27\u001b[0;31m \u001b[0mprocess\u001b[0m\u001b[0;34m.\u001b[0m\u001b[0mstart\u001b[0m\u001b[0;34m(\u001b[0m\u001b[0;34m)\u001b[0m\u001b[0;34m\u001b[0m\u001b[0;34m\u001b[0m\u001b[0m\n\u001b[0m",
      "\u001b[0;32m~/anaconda3/envs/trading/lib/python3.6/site-packages/scrapy/crawler.py\u001b[0m in \u001b[0;36mstart\u001b[0;34m(self, stop_after_crawl)\u001b[0m\n\u001b[1;32m    291\u001b[0m         \u001b[0mtp\u001b[0m\u001b[0;34m.\u001b[0m\u001b[0madjustPoolsize\u001b[0m\u001b[0;34m(\u001b[0m\u001b[0mmaxthreads\u001b[0m\u001b[0;34m=\u001b[0m\u001b[0mself\u001b[0m\u001b[0;34m.\u001b[0m\u001b[0msettings\u001b[0m\u001b[0;34m.\u001b[0m\u001b[0mgetint\u001b[0m\u001b[0;34m(\u001b[0m\u001b[0;34m'REACTOR_THREADPOOL_MAXSIZE'\u001b[0m\u001b[0;34m)\u001b[0m\u001b[0;34m)\u001b[0m\u001b[0;34m\u001b[0m\u001b[0;34m\u001b[0m\u001b[0m\n\u001b[1;32m    292\u001b[0m         \u001b[0mreactor\u001b[0m\u001b[0;34m.\u001b[0m\u001b[0maddSystemEventTrigger\u001b[0m\u001b[0;34m(\u001b[0m\u001b[0;34m'before'\u001b[0m\u001b[0;34m,\u001b[0m \u001b[0;34m'shutdown'\u001b[0m\u001b[0;34m,\u001b[0m \u001b[0mself\u001b[0m\u001b[0;34m.\u001b[0m\u001b[0mstop\u001b[0m\u001b[0;34m)\u001b[0m\u001b[0;34m\u001b[0m\u001b[0;34m\u001b[0m\u001b[0m\n\u001b[0;32m--> 293\u001b[0;31m         \u001b[0mreactor\u001b[0m\u001b[0;34m.\u001b[0m\u001b[0mrun\u001b[0m\u001b[0;34m(\u001b[0m\u001b[0minstallSignalHandlers\u001b[0m\u001b[0;34m=\u001b[0m\u001b[0;32mFalse\u001b[0m\u001b[0;34m)\u001b[0m  \u001b[0;31m# blocking call\u001b[0m\u001b[0;34m\u001b[0m\u001b[0;34m\u001b[0m\u001b[0m\n\u001b[0m\u001b[1;32m    294\u001b[0m \u001b[0;34m\u001b[0m\u001b[0m\n\u001b[1;32m    295\u001b[0m     \u001b[0;32mdef\u001b[0m \u001b[0m_get_dns_resolver\u001b[0m\u001b[0;34m(\u001b[0m\u001b[0mself\u001b[0m\u001b[0;34m)\u001b[0m\u001b[0;34m:\u001b[0m\u001b[0;34m\u001b[0m\u001b[0;34m\u001b[0m\u001b[0m\n",
      "\u001b[0;32m~/anaconda3/envs/trading/lib/python3.6/site-packages/twisted/internet/base.py\u001b[0m in \u001b[0;36mrun\u001b[0;34m(self, installSignalHandlers)\u001b[0m\n\u001b[1;32m   1240\u001b[0m \u001b[0;34m\u001b[0m\u001b[0m\n\u001b[1;32m   1241\u001b[0m     \u001b[0;32mdef\u001b[0m \u001b[0mrun\u001b[0m\u001b[0;34m(\u001b[0m\u001b[0mself\u001b[0m\u001b[0;34m,\u001b[0m \u001b[0minstallSignalHandlers\u001b[0m\u001b[0;34m=\u001b[0m\u001b[0;32mTrue\u001b[0m\u001b[0;34m)\u001b[0m\u001b[0;34m:\u001b[0m\u001b[0;34m\u001b[0m\u001b[0;34m\u001b[0m\u001b[0m\n\u001b[0;32m-> 1242\u001b[0;31m         \u001b[0mself\u001b[0m\u001b[0;34m.\u001b[0m\u001b[0mstartRunning\u001b[0m\u001b[0;34m(\u001b[0m\u001b[0minstallSignalHandlers\u001b[0m\u001b[0;34m=\u001b[0m\u001b[0minstallSignalHandlers\u001b[0m\u001b[0;34m)\u001b[0m\u001b[0;34m\u001b[0m\u001b[0;34m\u001b[0m\u001b[0m\n\u001b[0m\u001b[1;32m   1243\u001b[0m         \u001b[0mself\u001b[0m\u001b[0;34m.\u001b[0m\u001b[0mmainLoop\u001b[0m\u001b[0;34m(\u001b[0m\u001b[0;34m)\u001b[0m\u001b[0;34m\u001b[0m\u001b[0;34m\u001b[0m\u001b[0m\n\u001b[1;32m   1244\u001b[0m \u001b[0;34m\u001b[0m\u001b[0m\n",
      "\u001b[0;32m~/anaconda3/envs/trading/lib/python3.6/site-packages/twisted/internet/base.py\u001b[0m in \u001b[0;36mstartRunning\u001b[0;34m(self, installSignalHandlers)\u001b[0m\n\u001b[1;32m   1220\u001b[0m         \"\"\"\n\u001b[1;32m   1221\u001b[0m         \u001b[0mself\u001b[0m\u001b[0;34m.\u001b[0m\u001b[0m_installSignalHandlers\u001b[0m \u001b[0;34m=\u001b[0m \u001b[0minstallSignalHandlers\u001b[0m\u001b[0;34m\u001b[0m\u001b[0;34m\u001b[0m\u001b[0m\n\u001b[0;32m-> 1222\u001b[0;31m         \u001b[0mReactorBase\u001b[0m\u001b[0;34m.\u001b[0m\u001b[0mstartRunning\u001b[0m\u001b[0;34m(\u001b[0m\u001b[0mself\u001b[0m\u001b[0;34m)\u001b[0m\u001b[0;34m\u001b[0m\u001b[0;34m\u001b[0m\u001b[0m\n\u001b[0m\u001b[1;32m   1223\u001b[0m \u001b[0;34m\u001b[0m\u001b[0m\n\u001b[1;32m   1224\u001b[0m \u001b[0;34m\u001b[0m\u001b[0m\n",
      "\u001b[0;32m~/anaconda3/envs/trading/lib/python3.6/site-packages/twisted/internet/base.py\u001b[0m in \u001b[0;36mstartRunning\u001b[0;34m(self)\u001b[0m\n\u001b[1;32m    728\u001b[0m             \u001b[0;32mraise\u001b[0m \u001b[0merror\u001b[0m\u001b[0;34m.\u001b[0m\u001b[0mReactorAlreadyRunning\u001b[0m\u001b[0;34m(\u001b[0m\u001b[0;34m)\u001b[0m\u001b[0;34m\u001b[0m\u001b[0;34m\u001b[0m\u001b[0m\n\u001b[1;32m    729\u001b[0m         \u001b[0;32mif\u001b[0m \u001b[0mself\u001b[0m\u001b[0;34m.\u001b[0m\u001b[0m_startedBefore\u001b[0m\u001b[0;34m:\u001b[0m\u001b[0;34m\u001b[0m\u001b[0;34m\u001b[0m\u001b[0m\n\u001b[0;32m--> 730\u001b[0;31m             \u001b[0;32mraise\u001b[0m \u001b[0merror\u001b[0m\u001b[0;34m.\u001b[0m\u001b[0mReactorNotRestartable\u001b[0m\u001b[0;34m(\u001b[0m\u001b[0;34m)\u001b[0m\u001b[0;34m\u001b[0m\u001b[0;34m\u001b[0m\u001b[0m\n\u001b[0m\u001b[1;32m    731\u001b[0m         \u001b[0mself\u001b[0m\u001b[0;34m.\u001b[0m\u001b[0m_started\u001b[0m \u001b[0;34m=\u001b[0m \u001b[0;32mTrue\u001b[0m\u001b[0;34m\u001b[0m\u001b[0;34m\u001b[0m\u001b[0m\n\u001b[1;32m    732\u001b[0m         \u001b[0mself\u001b[0m\u001b[0;34m.\u001b[0m\u001b[0m_stopped\u001b[0m \u001b[0;34m=\u001b[0m \u001b[0;32mFalse\u001b[0m\u001b[0;34m\u001b[0m\u001b[0;34m\u001b[0m\u001b[0m\n",
      "\u001b[0;31mReactorNotRestartable\u001b[0m: "
     ]
    }
   ],
   "source": [
    "import scrapy\n",
    "from scrapy.crawler import CrawlerProcess\n",
    "\n",
    "from selenium import webdriver\n",
    "from selenium.webdriver.common.keys import Keys\n",
    "\n",
    "class eToroSpider(scrapy.Spider):\n",
    "    \n",
    "    name = \"eToroSpider\"\n",
    "#     allowed_domains = [\"https://www.etoro.com\"]\n",
    "    start_urls = [\"https://www.etoro.com/login\"]\n",
    "\n",
    "    def __init__(self):\n",
    "        self.driver = webdriver.Safari()\n",
    "        self.driver.get(\"https://www.etoro.com/login\")\n",
    "        # Search & Enter the Email or Phone field & Enter Password\n",
    "        username = self.driver.find_element_by_id(\"username\")\n",
    "        password = self.driver.find_element_by_id(\"password\")\n",
    "        username.send_keys(\"medioman22\")\n",
    "        password.send_keys(\"x\" + Keys.ENTER)\n",
    "    \n",
    "    def parse(self, response):\n",
    "        self.driver.get(response.url)\n",
    "\n",
    "process = CrawlerProcess()\n",
    "process.crawl(eToroSpider)\n",
    "process.start()"
   ]
  },
  {
   "cell_type": "code",
   "execution_count": null,
   "metadata": {},
   "outputs": [],
   "source": []
  }
 ],
 "metadata": {
  "kernelspec": {
   "display_name": "Python 3",
   "language": "python",
   "name": "python3"
  },
  "language_info": {
   "codemirror_mode": {
    "name": "ipython",
    "version": 3
   },
   "file_extension": ".py",
   "mimetype": "text/x-python",
   "name": "python",
   "nbconvert_exporter": "python",
   "pygments_lexer": "ipython3",
   "version": "3.6.8"
  }
 },
 "nbformat": 4,
 "nbformat_minor": 4
}
